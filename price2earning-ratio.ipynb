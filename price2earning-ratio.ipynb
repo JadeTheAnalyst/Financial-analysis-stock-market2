{
 "cells": [
  {
   "cell_type": "code",
   "execution_count": null,
   "metadata": {},
   "outputs": [],
   "source": [
    "import pandas as pd\n",
    "\n",
    "import requests\n",
    "\n",
    "PtoE= {}\n",
    "    \n",
    "querytickers = requests.get(f'https://fmpcloud.io/api/v3/search?query=&exchange=NASDAQ&limit=5000&apikey={demo}')\n",
    "querytickers = querytickers.json()\n",
    "\n",
    "list_500 = querytickers\n",
    "\n",
    "def getPricetoEarnings(stock):\n",
    "    IS = requests.get(f\"https://financialmodelingprep.com/api/v3/financials/income-statement/{stock}\")\n",
    "    IS = IS.json()\n",
    "    earnings = float(IS['financials'][0]['Net Income'])  \n",
    "\n",
    "    company_info = requests.get(f\"https://financialmodelingprep.com/api/v3/company/profile/{stock}\")\n",
    "    company_info = company_info.json()\n",
    "    market_cap =  float(company_info['profile']['mktCap'])\n",
    "    \n",
    "    PtoEarnings = market_cap/earnings\n",
    "    PtoE[stock] = PtoEarnings\n",
    "    return PtoE\n",
    "\n",
    "stocks = []\n",
    "count = 0\n",
    "for item in list_500:\n",
    "    count = count +1\n",
    "    #Stop after storing 500 stocks\n",
    "    if count < 50:\n",
    "        stocks.append(item['symbol'])\n",
    "        \n",
    "for item in stocks:\n",
    "    profile = requests.get(f'https://financialmodelingprep.com/api/v3/company/profile/{item}')\n",
    "    profile = profile.json()\n",
    "    try:\n",
    "        sector = profile['profile']['sector']\n",
    "        #marketcap in millions\n",
    "        mktcap = profile['profile']['mktCap']\n",
    "        mktcap = float(mktcap)/1000\n",
    "        if ((sector == 'Technology') & (10000 <= mktcap <= 100000)):\n",
    "            try:\n",
    "                getPricetoEarnings(item)\n",
    "            except:\n",
    "                pass\n",
    "    except:\n",
    "        pass\n",
    "        \n",
    "\n",
    "PtoE"
   ]
  }
 ],
 "metadata": {
  "kernelspec": {
   "display_name": "Python 3",
   "language": "python",
   "name": "python3"
  },
  "language_info": {
   "codemirror_mode": {
    "name": "ipython",
    "version": 3
   },
   "file_extension": ".py",
   "mimetype": "text/x-python",
   "name": "python",
   "nbconvert_exporter": "python",
   "pygments_lexer": "ipython3",
   "version": "3.7.6"
  }
 },
 "nbformat": 4,
 "nbformat_minor": 4
}
