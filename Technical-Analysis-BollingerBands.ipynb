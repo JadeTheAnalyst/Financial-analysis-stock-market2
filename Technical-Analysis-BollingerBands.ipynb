{
 "cells": [
  {
   "cell_type": "code",
   "execution_count": null,
   "metadata": {},
   "outputs": [],
   "source": [
    "import requests\n",
    "import pandas as pd\n",
    "import matplotlib.pyplot as plt\n",
    "\n",
    "\n",
    "def bollingerbands(stock):\n",
    "    stockprices = requests.get(f\"https://financialmodelingprep.com/api/v3/historical-price-full/{stock}?serietype=line\")\n",
    "    stockprices = stockprices.json()\n",
    "\n",
    "    stockprices = stockprices['historical'][-150:]\n",
    "    \n",
    "    stockprices = pd.DataFrame.from_dict(stockprices)\n",
    "    stockprices = stockprices.set_index('date')\n",
    "    stockprices['MA20'] = stockprices['close'].rolling(window=20).mean()\n",
    "    stockprices['20dSTD'] = stockprices['close'].rolling(window=20).std() \n",
    "\n",
    "    stockprices['Upper'] = stockprices['MA20'] + (stockprices['20dSTD'] * 2)\n",
    "    stockprices['Lower'] = stockprices['MA20'] - (stockprices['20dSTD'] * 2)\n",
    "    \n",
    "    stockprices[['close','MA20','Upper','Lower']].plot(figsize=(10,4))\n",
    "    plt.grid(True)\n",
    "    plt.title(stock + ' Bollinger Bands')\n",
    "    plt.axis('tight')\n",
    "    plt.ylabel('Price')\n",
    "    plt.savefig('apple.png', bbox_inches='tight')\n",
    "    \n",
    "bollingerbands('aapl')"
   ]
  }
 ],
 "metadata": {
  "kernelspec": {
   "display_name": "Python 3",
   "language": "python",
   "name": "python3"
  },
  "language_info": {
   "codemirror_mode": {
    "name": "ipython",
    "version": 3
   },
   "file_extension": ".py",
   "mimetype": "text/x-python",
   "name": "python",
   "nbconvert_exporter": "python",
   "pygments_lexer": "ipython3",
   "version": "3.7.6"
  }
 },
 "nbformat": 4,
 "nbformat_minor": 4
}
