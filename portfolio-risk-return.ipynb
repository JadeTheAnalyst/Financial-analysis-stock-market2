{
 "cells": [
  {
   "cell_type": "code",
   "execution_count": null,
   "metadata": {},
   "outputs": [],
   "source": [
    "import requests\n",
    "import pandas as pd\n",
    "import numpy as np\n",
    "\n",
    "#Variables\n",
    "stocks = ['NVS','AAPL','MSFT','GOOG']\n",
    "initial_weight = np.array([0.20,0.30,0.30,0.20])\n",
    "empresas = {}\n",
    "\n",
    "#Get all prices into a dataframe\n",
    "for stock in stocks:\n",
    "  prices = requests.get(f'https://financialmodelingprep.com/api/v3/historical-price-full/{stock}?serietype=line').json()\n",
    "\n",
    "  prices = prices['historical'][-900:]\n",
    "\n",
    "  prices = pd.DataFrame(prices) \n",
    "  \n",
    "  empresas[stock] = prices.set_index('date')\n",
    "  empresas[stock] = empresas[stock]['close']\n",
    "\n",
    "\n"
   ]
  },
  {
   "cell_type": "code",
   "execution_count": null,
   "metadata": {},
   "outputs": [],
   "source": [
    "#Concatenate each of the dataframes into a single dataframe\n",
    "portfolio = pd.concat(empresas, axis=1)\n",
    "\n",
    "return_stocks = portfolio.pct_change()\n",
    "return_stocks.head(10)"
   ]
  },
  {
   "cell_type": "code",
   "execution_count": null,
   "metadata": {},
   "outputs": [],
   "source": [
    "daily_returns_portfolio_mean = return_stocks.mean()\n",
    "print(daily_returns_portfolio_mean)"
   ]
  },
  {
   "cell_type": "code",
   "execution_count": null,
   "metadata": {},
   "outputs": [],
   "source": [
    "allocated_daily_returns = (initial_weight * daily_returns_portfolio_mean)\n",
    "\n",
    "portfolio_return = np.sum(allocated_daily_returns)\n",
    "print(portfolio_return)"
   ]
  },
  {
   "cell_type": "code",
   "execution_count": null,
   "metadata": {},
   "outputs": [],
   "source": [
    "# calculate portfolio daily returns\n",
    "return_stocks['portfolio_daily_returns'] = return_stocks.dot(initial_weight)\n",
    "return_stocks"
   ]
  },
  {
   "cell_type": "code",
   "execution_count": null,
   "metadata": {},
   "outputs": [],
   "source": [
    "Cumulative_returns_daily = (1+return_stocks).cumprod()\n",
    "Cumulative_returns_daily.tail(5)"
   ]
  },
  {
   "cell_type": "code",
   "execution_count": null,
   "metadata": {},
   "outputs": [],
   "source": [
    "Cumulative_returns_daily['portfolio_daily_returns'].plot()\n",
    "\n"
   ]
  },
  {
   "cell_type": "code",
   "execution_count": null,
   "metadata": {},
   "outputs": [],
   "source": [
    "matrix_covariance_portfolio = return_stocks.iloc[:,:-1]\n",
    "matrix_covariance_portfolio = (matrix_covariance_portfolio.cov())*252\n",
    "\n",
    "matrix_covariance_portfolio"
   ]
  },
  {
   "cell_type": "code",
   "execution_count": null,
   "metadata": {},
   "outputs": [],
   "source": [
    "portfolio_variance = np.dot(initial_weight.T,np.dot(matrix_covariance_portfolio, initial_weight))\n",
    "\n",
    "#standard deviation (risk of portfolio)\n",
    "portfolio_risk = np.sqrt(portfolio_variance)\n",
    "portfolio_risk"
   ]
  },
  {
   "cell_type": "code",
   "execution_count": null,
   "metadata": {},
   "outputs": [],
   "source": []
  }
 ],
 "metadata": {
  "kernelspec": {
   "display_name": "Python 3",
   "language": "python",
   "name": "python3"
  },
  "language_info": {
   "codemirror_mode": {
    "name": "ipython",
    "version": 3
   },
   "file_extension": ".py",
   "mimetype": "text/x-python",
   "name": "python",
   "nbconvert_exporter": "python",
   "pygments_lexer": "ipython3",
   "version": "3.7.6"
  }
 },
 "nbformat": 4,
 "nbformat_minor": 4
}
